{
 "metadata": {
  "kernelspec": {
   "display_name": "Python 2",
   "language": "python",
   "name": "python2"
  },
  "language_info": {
   "codemirror_mode": {
    "name": "ipython",
    "version": 2
   },
   "file_extension": ".py",
   "mimetype": "text/x-python",
   "name": "python",
   "nbconvert_exporter": "python",
   "pygments_lexer": "ipython2",
   "version": "2.7.5+"
  },
  "name": ""
 },
 "nbformat": 3,
 "nbformat_minor": 0,
 "worksheets": [
  {
   "cells": [
    {
     "cell_type": "markdown",
     "metadata": {},
     "source": [
      "# Encoding for image recognition\n",
      "\n",
      "As we will see in this notebook, on the relatively easy MNIST image recognition dataset, we can use NEF decoding methods to do quite well. However, this performance depends on a judicious choice of encoders. This notebook explores how encoder choice affects performance on an image categorization task."
     ]
    },
    {
     "cell_type": "code",
     "collapsed": false,
     "input": [
      "import matplotlib.pyplot as plt\n",
      "%matplotlib inline\n",
      "import nengo\n",
      "import numpy as np\n",
      "\n",
      "import nengo_extras.solvers\n",
      "from nengo_extras.data import load_mnist, one_hot_from_labels\n",
      "from nengo_extras.matplotlib import tile\n",
      "from nengo_extras.vision import Gabor, Mask\n",
      "\n",
      "rng = np.random.RandomState(9)"
     ],
     "language": "python",
     "metadata": {},
     "outputs": [],
     "prompt_number": null
    },
    {
     "cell_type": "markdown",
     "metadata": {},
     "source": [
      "## Load and preprocess the data\n",
      "\n",
      "First, we load the MNIST data, and preprocess it to lie within the range [-1, 1] (by default, it is in the range [0, 1]).\n",
      "\n",
      "Then, we generate a set of training targets, ``T_train``. The dimensionality of our output is the number of classes in the dataset, 10. The targets are one-hot encodings of the class index of each example; that is, for each example, we have a 10-dimensional vector where only one element is one (corresponding to the class of that example) and all other elements are zero. Five examples of this are printed in the output below."
     ]
    },
    {
     "cell_type": "code",
     "collapsed": false,
     "input": [
      "# --- load the data\n",
      "img_shape = (28, 28)\n",
      "\n",
      "(X_train, y_train), (X_test, y_test) = load_mnist()\n",
      "\n",
      "X_train = 2.0*X_train - 1  # normalize to -1 to 1\n",
      "X_test = 2.0*X_test - 1  # normalize to -1 to 1\n",
      "\n",
      "T_train = one_hot_from_labels(y_train, classes=10)\n",
      "\n",
      "for i in range(5):\n",
      "    print(\"%d -> %s\" % (y_train[i], T_train[i]))"
     ],
     "language": "python",
     "metadata": {},
     "outputs": [],
     "prompt_number": null
    },
    {
     "cell_type": "markdown",
     "metadata": {},
     "source": [
      "## Create the network\n",
      "\n",
      "We now create our network. It has one ensemble, ``a``, that encodes the input images using neurons, and a connection ``conn`` out of this ensemble that decodes the classification.\n",
      "\n",
      "We choose not to randomize the intercepts and max rates, so that our results are only affected by the different encoder choices.\n",
      "\n",
      "We create a function ``get_outs`` that returns the output of the network given a ``Simulator`` object, so that we can evaluate the network statically on many images (i.e. we don't need to run the simulator in time, we just use the encoders and decoders created during the build process)."
     ]
    },
    {
     "cell_type": "code",
     "collapsed": false,
     "input": [
      "# --- set up network parameters\n",
      "n_vis = X_train.shape[1]\n",
      "n_out = T_train.shape[1]\n",
      "\n",
      "# number of hidden units. More means better performance but longer training time.\n",
      "n_hid = 1000\n",
      "\n",
      "ens_params = dict(\n",
      "    eval_points=X_train,\n",
      "    neuron_type=nengo.LIF(),\n",
      "    intercepts=nengo.dists.Choice([0.1]),\n",
      "    max_rates=nengo.dists.Choice([100]),\n",
      "    )\n",
      "\n",
      "#solver = nengo.solvers.LstsqL2(reg=0.01)\n",
      "solver = nengo_extras.solvers.LstsqClassifier(reg=0.02)\n",
      "#solver = nengo_extras.solvers.LstsqClassifier(reg=0.02)\n",
      "\n",
      "with nengo.Network(seed=3) as model:\n",
      "    a = nengo.Ensemble(n_hid, n_vis, **ens_params)\n",
      "    v = nengo.Node(size_in=n_out)\n",
      "    conn = nengo.Connection(\n",
      "        a, v, eval_points=X_train, function=T_train, solver=solver)\n",
      "    \n",
      "    \n",
      "def get_outs(sim, images):\n",
      "    # encode the images to get the ensemble activations\n",
      "    _, acts = nengo.utils.ensemble.tuning_curves(a, sim, inputs=images)\n",
      "    \n",
      "    # decode the ensemble activities using the connection's decoders\n",
      "    return np.dot(acts, sim.data[conn].weights.T)\n",
      "\n",
      "def get_error(sim, images, labels):\n",
      "    # the classification for each example is index of \n",
      "    # the output dimension with the highest value\n",
      "    return np.argmax(get_outs(sim, images), axis=1) != labels\n",
      "\n",
      "def print_error(sim):\n",
      "    train_error = 100 * get_error(sim, X_train, y_train).mean()\n",
      "    test_error = 100 * get_error(sim, X_test, y_test).mean()\n",
      "    print(\"Train/test error: %0.2f%%, %0.2f%%\" % (train_error, test_error))"
     ],
     "language": "python",
     "metadata": {},
     "outputs": [],
     "prompt_number": null
    },
    {
     "cell_type": "markdown",
     "metadata": {},
     "source": [
      "## Normally distributed encoders\n",
      "\n",
      "These are the standard encoders used in the NEF. Since our data is high-dimensional, they have a lot of space to cover, and do not work particularly well, as shown by the training and testing errors.\n",
      "\n",
      "Samples of these encoders are shown in the plot."
     ]
    },
    {
     "cell_type": "code",
     "collapsed": false,
     "input": [
      "encoders = rng.normal(size=(n_hid, n_vis))\n",
      "a.encoders = encoders\n",
      "\n",
      "tile(encoders.reshape(-1, *img_shape), rows=4, cols=6, grid=True)\n",
      "\n",
      "with nengo.Simulator(model) as sim:\n",
      "    print_error(sim)"
     ],
     "language": "python",
     "metadata": {},
     "outputs": [],
     "prompt_number": null
    },
    {
     "cell_type": "markdown",
     "metadata": {},
     "source": [
      "## Normally distributed sparse encoders\n",
      "\n",
      "The same as before, but now each encoder has a limited receptive field. This makes each neuron only responsible for part of the image, and allows them to work together better to encode the whole image."
     ]
    },
    {
     "cell_type": "code",
     "collapsed": false,
     "input": [
      "encoders = rng.normal(size=(n_hid, 11, 11))\n",
      "encoders = Mask(img_shape).populate(encoders, rng=rng, flatten=True)\n",
      "a.encoders = encoders\n",
      "\n",
      "tile(encoders.reshape(-1, *img_shape), rows=4, cols=6, grid=True)\n",
      "\n",
      "with nengo.Simulator(model) as sim:\n",
      "    print_error(sim)"
     ],
     "language": "python",
     "metadata": {},
     "outputs": [],
     "prompt_number": null
    },
    {
     "cell_type": "markdown",
     "metadata": {},
     "source": [
      "## Gabor filter encoders\n",
      "\n",
      "Neurons in primary visual cortex have tuning that resembles Gabor filters. This is because natural images are somewhat smooth: There is a correlation between a pixel's value and that of adjacent pixels.\n",
      "\n",
      "First, we use Gabor filters over the whole image, which does not work particularly well since a) each neuron is now responsible for the whole image again, and b) the statistics of the resulting Gabor filters do not match the statistics of the images."
     ]
    },
    {
     "cell_type": "code",
     "collapsed": false,
     "input": [
      "encoders = Gabor().generate(n_hid, img_shape, rng=rng).reshape(n_hid, n_vis)\n",
      "a.encoders = encoders\n",
      "\n",
      "tile(encoders.reshape(-1, *img_shape), rows=4, cols=6, grid=True)\n",
      "\n",
      "with nengo.Simulator(model) as sim:\n",
      "    print_error(sim)"
     ],
     "language": "python",
     "metadata": {},
     "outputs": [],
     "prompt_number": null
    },
    {
     "cell_type": "markdown",
     "metadata": {},
     "source": [
      "### Sparse Gabor filter encoders\n",
      "\n",
      "Using Gabor filters that only cover part of the image results in the best performance. These filters are able to work together to encode the image, and their statistics roughly match those of the input images."
     ]
    },
    {
     "cell_type": "code",
     "collapsed": false,
     "input": [
      "encoders = Gabor().generate(n_hid, (11, 11), rng=rng)\n",
      "encoders = Mask(img_shape).populate(encoders, rng=rng, flatten=True)\n",
      "a.encoders = encoders\n",
      "\n",
      "tile(encoders.reshape(-1, *img_shape), rows=4, cols=6, grid=True)\n",
      "\n",
      "with nengo.Simulator(model) as sim:\n",
      "    print_error(sim)"
     ],
     "language": "python",
     "metadata": {},
     "outputs": [],
     "prompt_number": null
    },
    {
     "cell_type": "markdown",
     "metadata": {},
     "source": [
      "## Running in spiking neurons\n",
      "\n"
     ]
    },
    {
     "cell_type": "code",
     "collapsed": false,
     "input": [
      "n_presentations = 1000\n",
      "presentation_time = 0.07\n",
      "tau_s = 0.005\n",
      "clip_time = 3*tau_s\n",
      "\n",
      "encoders = Gabor().generate(n_hid, (11, 11), rng=rng)\n",
      "encoders = Mask(img_shape).populate(encoders, rng=rng, flatten=True)\n",
      "\n",
      "ens_params = dict(\n",
      "    eval_points=X_train,\n",
      "    neuron_type=nengo.LIF(),\n",
      "    intercepts=nengo.dists.Choice([0.1]),\n",
      "    max_rates=nengo.dists.Choice([100]),\n",
      "    encoders=encoders,\n",
      "    )\n",
      "\n",
      "with nengo.Network(seed=3) as model:\n",
      "    model.config[nengo.Connection].synapse = nengo.synapses.Alpha(tau_s)\n",
      "\n",
      "    u = nengo.Node(nengo.processes.PresentInput(X_test, presentation_time))    \n",
      "    a = nengo.Ensemble(n_hid, n_vis, **ens_params)\n",
      "    v = nengo.Node(size_in=n_out)\n",
      "    nengo.Connection(u, a, synapse=None)\n",
      "    conn = nengo.Connection(\n",
      "        a, v, eval_points=X_train, function=T_train, solver=solver)\n",
      "    vp = nengo.Probe(v)\n",
      "\n",
      "with nengo.Simulator(model) as sim:\n",
      "    sim.run(n_presentations * presentation_time)\n",
      "    nt = int(round(presentation_time / sim.dt))\n",
      "    ct = int(round(clip_time / sim.dt))\n",
      "    blocks = sim.data[vp].reshape(n_presentations, nt, 10)\n",
      "\n",
      "    choices = np.argmax(blocks[:, ct:, :].mean(axis=1), axis=1)\n",
      "    spiking_error = 100 * (choices != y_test[:n_presentations]).mean()\n",
      "    \n",
      "    print_error(sim)\n",
      "    \n",
      "print(\"Spiking test error (%d examples): %0.2f%%\" % (n_presentations, spiking_error))    "
     ],
     "language": "python",
     "metadata": {},
     "outputs": [],
     "prompt_number": null
    }
   ],
   "metadata": {}
  }
 ]
}

