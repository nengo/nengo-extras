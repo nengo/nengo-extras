{
 "cells": [
  {
   "cell_type": "code",
   "execution_count": null,
   "metadata": {
    "collapsed": false
   },
   "outputs": [],
   "source": [
    "import nengo\n",
    "import numpy as np\n",
    "%matplotlib inline\n",
    "import matplotlib.pyplot as plt\n",
    "\n",
    "import nengo_deeplearning.backends.theano.optimizers as opt\n",
    "import nengo_deeplearning.processes as proc\n",
    "from nengo_deeplearning.backends.theano.networks import RNN\n",
    "from nengo_deeplearning.backends.theano.layers import Generic, GatedRecurrent, Dense\n",
    "from nengo_deeplearning.inputs.mnist import load_mnist\n",
    "\n",
    "# Need to have 10 separate colors; from http://colorbrewer2.org/\n",
    "plt.rc('axes', color_cycle=[\n",
    "    \"#a6cee3\",\n",
    "    \"#1f78b4\",\n",
    "    \"#b2df8a\",\n",
    "    \"#33a02c\",\n",
    "    \"#fb9a99\",\n",
    "    \"#e31a1c\",\n",
    "    \"#fdbf6f\",\n",
    "    \"#ff7f00\",\n",
    "    \"#cab2d6\",\n",
    "    \"#6a3d9a\",\n",
    "])"
   ]
  },
  {
   "cell_type": "markdown",
   "metadata": {},
   "source": [
    "## Train an RNN to classify MNIST"
   ]
  },
  {
   "cell_type": "code",
   "execution_count": null,
   "metadata": {
    "collapsed": false
   },
   "outputs": [],
   "source": [
    "trX, teX, trY, teY = load_mnist(data_dir='.')  # Will download to data_dir if they don't exist\n",
    "\n",
    "# RNN processes a size 28 vector at a time scanning from left to right \n",
    "layers = [\n",
    "    Generic(size=28),\n",
    "    GatedRecurrent(size=512, p_drop=0.2),\n",
    "    Dense(size=10, activation='softmax', p_drop=0.5)\n",
    "]\n",
    "\n",
    "# A bit of l2 helps with generalization, higher momentum helps convergence\n",
    "optimizer = opt.NAG(momentum=0.95, regularizer=opt.Regularizer(l2=1e-4))\n",
    "\n",
    "# Linear iterator for real valued data, cce cost for softmax\n",
    "model = RNN(layers=layers, optimizer=optimizer, iterator='linear', cost='cce')\n",
    "model.fit(trX, trY, n_epochs=10)\n",
    "\n",
    "tr_preds = model.predict(trX[:len(teY)])\n",
    "te_preds = model.predict(teX)\n",
    "\n",
    "tr_acc = np.mean(np.argmax(trY[:len(teY)], axis=1) == np.argmax(tr_preds, axis=1))\n",
    "te_acc = np.mean(np.argmax(teY, axis=1) == np.argmax(te_preds, axis=1))\n",
    "\n",
    "print \"  ====== Results ======\"\n",
    "print \"Train accuracy %s\\tTest accuracy %s\" % (tr_acc, te_acc)\n",
    "model.save('trained_rnn.pkl')"
   ]
  },
  {
   "cell_type": "markdown",
   "metadata": {},
   "source": [
    "## Integrating with Nengo"
   ]
  },
  {
   "cell_type": "code",
   "execution_count": null,
   "metadata": {
    "collapsed": false
   },
   "outputs": [],
   "source": [
    "trX, teX, trY, teY = load_mnist(data_dir='.')\n",
    "trX = trX.reshape((-1, 28))  # Reshape so that each input is one row\n",
    "dl_net = RNN.load('trained_rnn.pkl')\n",
    "\n",
    "with nengo.Network() as net:\n",
    "    mnist_in = nengo.Node(proc.PresentInput(trX, presentation_time=0.01), size_out=28)\n",
    "    rnn = nengo.Node(proc.DLBlackBox(dl_net, history=28), size_in=28, size_out=10)\n",
    "    nengo.Connection(mnist_in, rnn, synapse=None)\n",
    "    pr_in = nengo.Probe(mnist_in)\n",
    "    pr_out = nengo.Probe(rnn)"
   ]
  },
  {
   "cell_type": "code",
   "execution_count": null,
   "metadata": {
    "collapsed": false
   },
   "outputs": [],
   "source": [
    "# NB! dt must match presentation time for RNN\n",
    "sim = nengo.Simulator(net, dt=0.01)\n",
    "sim.run(2.0)\n",
    "\n",
    "plt.figure(figsize=(14, 6))\n",
    "plt.subplot(2, 1, 1)\n",
    "plt.pcolormesh(sim.trange(), np.arange(28), sim.data[pr_in].T,\n",
    "               cmap=plt.cm.binary)\n",
    "plt.ylim(0, 28)\n",
    "plt.subplot(2, 1, 2)\n",
    "plt.plot(sim.trange(), sim.data[pr_out])\n",
    "plt.legend(np.arange(10), loc='best', fontsize='small')\n",
    "# Digits are rotated left 90 degrees, but you get the idea"
   ]
  }
 ],
 "metadata": {
  "kernelspec": {
   "display_name": "Python 2",
   "language": "python",
   "name": "python2"
  },
  "language_info": {
   "codemirror_mode": {
    "name": "ipython",
    "version": 2
   },
   "file_extension": ".py",
   "mimetype": "text/x-python",
   "name": "python",
   "nbconvert_exporter": "python",
   "pygments_lexer": "ipython2",
   "version": "2.7.10"
  }
 },
 "nbformat": 4,
 "nbformat_minor": 0
}
