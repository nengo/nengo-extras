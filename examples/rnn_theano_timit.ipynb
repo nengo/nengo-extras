{
 "cells": [
  {
   "cell_type": "code",
   "execution_count": null,
   "metadata": {
    "collapsed": false
   },
   "outputs": [],
   "source": [
    "import nengo\n",
    "import numpy as np\n",
    "%matplotlib inline\n",
    "import matplotlib.pyplot as plt\n",
    "from IPython.display import Audio\n",
    "\n",
    "import nengo_deeplearning.backends.theano.optimizers as opt\n",
    "import nengo_deeplearning.processes as proc\n",
    "from nengo_deeplearning.backends.theano.networks import RNN\n",
    "from nengo_deeplearning.backends.theano.layers import Generic, GatedRecurrent, Dense\n",
    "from skspeech.datasets import timit"
   ]
  },
  {
   "cell_type": "markdown",
   "metadata": {},
   "source": [
    "## Train an RNN to decode VTGs from TIMIT\n",
    "\n",
    "Notes:\n",
    "\n",
    "- [Lasagne](http://lasagne.readthedocs.org/en/latest/user/tutorial.html)\n",
    "- [HF2Nengo](https://github.com/nengo/nengo_deeplearning/pull/2)\n",
    "\n",
    "CTC notes:\n",
    "\n",
    "- [Blog post](http://andrew.gibiansky.com/blog/machine-learning/speech-recognition-neural-networks/)\n",
    "- [pure Theano](https://github.com/mohammadpz/CTC-Connectionist-Temporal-Classification)\n",
    "- [Lasagne](https://github.com/skaae/Lasagne-CTC/blob/master/ctc_cost.py)"
   ]
  },
  {
   "cell_type": "code",
   "execution_count": null,
   "metadata": {
    "collapsed": false
   },
   "outputs": [],
   "source": [
    "data = timit.TIMIT(\"~/Dropbox/reading-auditory/data/timit\")\n",
    "data.filefilt.sent_number = (2,)\n",
    "words = ['me', 'like', 'that']\n",
    "n_frames = int(0.01 * data.fs)\n",
    "frame_advance = int(0.005 * data.fs)\n",
    "freqs = np.fft.rfftfreq(n_frames, 1. / data.fs)[1::2]\n",
    "print freqs\n",
    "\n",
    "trX = data.in_spectrogram(freqs, n_frames, frame_advance, words=words)\n",
    "trY = data.out_vtg(words, n_frames, frame_advance)\n",
    "trX = trX[:, np.newaxis, :]\n",
    "print trX.shape, trY.shape\n",
    "trX = np.clip(trX, 0, 3)"
   ]
  },
  {
   "cell_type": "code",
   "execution_count": null,
   "metadata": {
    "collapsed": false
   },
   "outputs": [],
   "source": [
    "plt.figure(figsize=(14, 6))\n",
    "plt.pcolormesh(trX[:500, 0, :].T)\n",
    "plt.colorbar()"
   ]
  },
  {
   "cell_type": "code",
   "execution_count": null,
   "metadata": {
    "collapsed": false
   },
   "outputs": [],
   "source": [
    "layers = [\n",
    "    Generic(size=trX.shape[2]),\n",
    "    GatedRecurrent(size=512, p_drop=0.2),\n",
    "    Dense(size=trY.shape[1], activation='tanh', p_drop=0.5)\n",
    "]\n",
    "\n",
    "# A bit of l2 helps with generalization, higher momentum helps convergence\n",
    "optimizer = opt.NAG(momentum=0.95, regularizer=opt.Regularizer(l2=1e-4))\n",
    "\n",
    "# Linear iterator for real valued data, cce cost for softmax\n",
    "model = RNN(layers=layers, optimizer=optimizer, iterator='linear', cost='mse')\n",
    "model.fit(trX, trY, n_epochs=5)\n",
    "\n",
    "tr_preds = model.predict(trX)  # [:len(teY)])\n",
    "# te_preds = model.predict(teX)\n",
    "\n",
    "# tr_acc = np.mean(np.argmax(trY[:len(teY)], axis=1) == np.argmax(tr_preds, axis=1))\n",
    "print trY.shape, tr_preds.shape\n",
    "tr_acc = np.sqrt(np.mean((trY - tr_preds) ** 2))\n",
    "# te_acc = np.mean(np.argmax(teY, axis=1) == np.argmax(te_preds, axis=1))\n",
    "\n",
    "print \"  ====== Results ======\"\n",
    "# print \"Train accuracy %s\\tTest accuracy %s\" % (tr_acc, te_acc)\n",
    "print \"Train accuracy %s\" % tr_acc\n",
    "model.save('trained_rnn.pkl')"
   ]
  },
  {
   "cell_type": "code",
   "execution_count": null,
   "metadata": {
    "collapsed": false
   },
   "outputs": [],
   "source": [
    "st, end = 5000, 6000\n",
    "plt.figure(figsize=(12, 4))\n",
    "plt.plot(trY[st:end])\n",
    "plt.figure(figsize=(12, 4))\n",
    "plt.plot(tr_preds[st:end])\n",
    "plt.figure(figsize=(12, 4))\n",
    "plt.plot(tr_preds[st:end] - trY[st:end])"
   ]
  }
 ],
 "metadata": {
  "kernelspec": {
   "display_name": "Python 2",
   "language": "python",
   "name": "python2"
  },
  "language_info": {
   "codemirror_mode": {
    "name": "ipython",
    "version": 2
   },
   "file_extension": ".py",
   "mimetype": "text/x-python",
   "name": "python",
   "nbconvert_exporter": "python",
   "pygments_lexer": "ipython2",
   "version": "2.7.10"
  }
 },
 "nbformat": 4,
 "nbformat_minor": 0
}
