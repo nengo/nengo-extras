{
 "cells": [
  {
   "cell_type": "markdown",
   "metadata": {},
   "source": [
    "# CIFAR-10 classifier with a spiking CNN\n",
    "\n",
    "This example will download CIFAR-10 automatically,\n",
    "but you will need to download `cifar10-lif-1628.pkl`\n",
    "from https://figshare.com/s/49741f9e2d0d29f68871 manually\n",
    "and place it in the same folder as this example."
   ]
  },
  {
   "cell_type": "code",
   "execution_count": null,
   "metadata": {},
   "outputs": [],
   "source": [
    "import nengo\n",
    "import nengo_dl\n",
    "import numpy as np\n",
    "\n",
    "from nengo_extras.data import load_cifar10\n",
    "from nengo_extras.cuda_convnet import CudaConvnetNetwork, load_model_pickle\n",
    "from nengo_extras.gui import image_display_function"
   ]
  },
  {
   "cell_type": "code",
   "execution_count": null,
   "metadata": {},
   "outputs": [],
   "source": [
    "# Parameters\n",
    "use_dl = True\n",
    "n_presentations = 50\n",
    "presentation_time = 0.1"
   ]
  },
  {
   "cell_type": "code",
   "execution_count": null,
   "metadata": {},
   "outputs": [],
   "source": [
    "# pylint: disable=unbalanced-tuple-unpacking\n",
    "(X_train, y_train), (X_test, y_test), label_names = load_cifar10(label_names=True)\n",
    "X_train = X_train.reshape((-1, 3, 32, 32)).astype(\"float32\")\n",
    "X_test = X_test.reshape((-1, 3, 32, 32)).astype(\"float32\")\n",
    "n_classes = len(label_names)\n",
    "\n",
    "# crop data\n",
    "X_train = X_train[:, :, 4:-4, 4:-4]\n",
    "X_test = X_test[:, :, 4:-4, 4:-4]\n",
    "\n",
    "# subtract mean\n",
    "data_mean = X_train.mean(axis=0)\n",
    "X_train -= data_mean\n",
    "X_test -= data_mean\n",
    "\n",
    "# retrieve from https://figshare.com/s/49741f9e2d0d29f68871\n",
    "cc_model = load_model_pickle(\"cifar10lif1628.pkl\")"
   ]
  },
  {
   "cell_type": "code",
   "execution_count": null,
   "metadata": {},
   "outputs": [],
   "source": [
    "with nengo.Network() as model:\n",
    "    u = nengo.Node(nengo.processes.PresentInput(X_test, presentation_time))\n",
    "    ccnet = CudaConvnetNetwork(cc_model, synapse=nengo.synapses.Alpha(0.005))\n",
    "    nengo.Connection(u, ccnet.input, synapse=None)\n",
    "\n",
    "    input_p = nengo.Probe(u)\n",
    "    output_p = nengo.Probe(ccnet.output)\n",
    "\n",
    "    # --- image display\n",
    "    image_shape = X_test.shape[1:]\n",
    "    display_f = image_display_function(image_shape, scale=1, offset=data_mean)\n",
    "    display_node = nengo.Node(display_f, size_in=u.size_out)\n",
    "    nengo.Connection(u, display_node, synapse=None)\n",
    "\n",
    "    # --- output spa display\n",
    "    vocab_names = [s.upper().decode(\"utf-8\") for s in label_names]\n",
    "    vocab_vectors = np.eye(len(vocab_names))\n",
    "\n",
    "    vocab = nengo.spa.Vocabulary(len(vocab_names))\n",
    "    for name, vector in zip(vocab_names, vocab_vectors):\n",
    "        vocab.add(name, vector)\n",
    "\n",
    "    config = nengo.Config(nengo.Ensemble)\n",
    "    config[nengo.Ensemble].neuron_type = nengo.Direct()\n",
    "    with config:\n",
    "        output = nengo.spa.State(len(vocab_names), subdimensions=10, vocab=vocab)\n",
    "    nengo.Connection(ccnet.output, output.input)"
   ]
  },
  {
   "cell_type": "code",
   "execution_count": null,
   "metadata": {},
   "outputs": [],
   "source": [
    "Sim = nengo_dl.Simulator if use_dl else nengo.Simulator\n",
    "\n",
    "with Sim(model) as sim:\n",
    "    sim.run(n_presentations * presentation_time)"
   ]
  },
  {
   "cell_type": "code",
   "execution_count": null,
   "metadata": {},
   "outputs": [],
   "source": [
    "nt = int(presentation_time / sim.dt)\n",
    "blocks = sim.data[output_p].reshape((n_presentations, nt, n_classes))\n",
    "choices = np.argmax(blocks[:, -20:, :].mean(axis=1), axis=1)\n",
    "accuracy = (choices == y_test[:n_presentations]).mean()\n",
    "print(\"Spiking accuracy (%d examples): %0.3f\" % (n_presentations, accuracy))"
   ]
  }
 ],
 "metadata": {
  "language_info": {
   "name": "python",
   "pygments_lexer": "ipython3"
  },
  "nbsphinx": {
   "execute": "never"
  }
 },
 "nbformat": 4,
 "nbformat_minor": 2
}
