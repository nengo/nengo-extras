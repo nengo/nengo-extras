{
 "cells": [
  {
   "cell_type": "markdown",
   "metadata": {},
   "source": [
    "# ImageNet ILSVRC-2012 classifier with a spiking CNN\n",
    "\n",
    "This example will download ILSVRC-2012 automatically,\n",
    "but you will need to download `ilsvrc2012-lif-48.pkl`\n",
    "from https://figshare.com/s/f343c68df647e675af28 manually\n",
    "and place it in the same folder as this example."
   ]
  },
  {
   "cell_type": "code",
   "execution_count": 1,
   "metadata": {},
   "outputs": [],
   "source": [
    "import nengo\n",
    "import nengo_dl\n",
    "import numpy as np\n",
    "\n",
    "from nengo_extras.data import load_ilsvrc2012, spasafe_names\n",
    "from nengo_extras.cuda_convnet import CudaConvnetNetwork, load_model_pickle\n",
    "from nengo_extras.gui import image_display_function"
   ]
  },
  {
   "cell_type": "code",
   "execution_count": 2,
   "metadata": {},
   "outputs": [],
   "source": [
    "# Parameters\n",
    "use_dl = True\n",
    "n_presentations = 10\n",
    "presentation_time = 0.1"
   ]
  },
  {
   "cell_type": "code",
   "execution_count": 3,
   "metadata": {},
   "outputs": [],
   "source": [
    "X_test, Y_test, data_mean, label_names = load_ilsvrc2012(n_files=1)\n",
    "X_test = X_test.astype(\"float32\")\n",
    "\n",
    "# crop data\n",
    "X_test = X_test[:, :, 16:-16, 16:-16]\n",
    "data_mean = data_mean[:, 16:-16, 16:-16]\n",
    "image_shape = X_test.shape[1:]\n",
    "\n",
    "# subtract mean\n",
    "X_test -= data_mean\n",
    "\n",
    "# retrieve from https://figshare.com/s/f343c68df647e675af28\n",
    "cc_model = load_model_pickle(\"ilsvrc2012-lif-48.pkl\")"
   ]
  },
  {
   "cell_type": "code",
   "execution_count": 4,
   "metadata": {},
   "outputs": [],
   "source": [
    "with nengo.Network() as model:\n",
    "    u = nengo.Node(nengo.processes.PresentInput(X_test, presentation_time))\n",
    "    ccnet = CudaConvnetNetwork(cc_model, synapse=nengo.synapses.Alpha(0.001))\n",
    "    nengo.Connection(u, ccnet.input, synapse=None)\n",
    "\n",
    "    # input_p = nengo.Probe(u)\n",
    "    output_p = nengo.Probe(ccnet.output)\n",
    "\n",
    "    # --- image display\n",
    "    display_f = image_display_function(image_shape, scale=1.0, offset=data_mean)\n",
    "    display_node = nengo.Node(display_f, size_in=u.size_out)\n",
    "    nengo.Connection(u, display_node, synapse=None)\n",
    "\n",
    "    # --- output spa display\n",
    "    vocab_names = spasafe_names(label_names)\n",
    "    vocab_vectors = np.eye(len(vocab_names))\n",
    "\n",
    "    vocab = nengo.spa.Vocabulary(len(vocab_names))\n",
    "    for name, vector in zip(vocab_names, vocab_vectors):\n",
    "        vocab.add(name, vector)\n",
    "\n",
    "    config = nengo.Config(nengo.Ensemble)\n",
    "    config[nengo.Ensemble].neuron_type = nengo.Direct()\n",
    "    with config:\n",
    "        output = nengo.spa.State(len(vocab_names), subdimensions=10, vocab=vocab)\n",
    "    nengo.Connection(ccnet.output, output.input)"
   ]
  },
  {
   "cell_type": "code",
   "execution_count": 5,
   "metadata": {},
   "outputs": [
    {
     "name": "stdout",
     "output_type": "stream",
     "text": [
      "Build finished in 0:00:03                                                      \n",
      "Optimization finished in 0:00:00                                               \n",
      "|      #                  Constructing graph                          | 0:00:00"
     ]
    },
    {
     "name": "stderr",
     "output_type": "stream",
     "text": [
      "2022-01-07 14:03:55.213357: W tensorflow/core/common_runtime/gpu/gpu_bfc_allocator.cc:39] Overriding allow_growth setting because the TF_FORCE_GPU_ALLOW_GROWTH environment variable is set. Original config value was 0.\n"
     ]
    },
    {
     "name": "stdout",
     "output_type": "stream",
     "text": [
      "Construction finished in 0:00:01                                               \n",
      "Simulation finished in 0:21:57                                                 \n"
     ]
    }
   ],
   "source": [
    "Sim = nengo_dl.Simulator if use_dl else nengo.Simulator\n",
    "\n",
    "with Sim(model) as sim:\n",
    "    sim.run(n_presentations * presentation_time)"
   ]
  },
  {
   "cell_type": "code",
   "execution_count": 6,
   "metadata": {},
   "outputs": [
    {
     "name": "stdout",
     "output_type": "stream",
     "text": [
      "Spiking accuracy (10 examples): 0.300 (top-1), 0.400 (top-5)\n"
     ]
    }
   ],
   "source": [
    "nt = int(presentation_time / sim.dt)\n",
    "n_classes = ccnet.output.size_out\n",
    "blocks = sim.data[output_p].reshape((n_presentations, nt, n_classes))\n",
    "choices = np.argsort(blocks[:, -20:, :].mean(axis=1), axis=1)\n",
    "top5corrects = choices[:, -5:] == Y_test[:n_presentations, None]\n",
    "top1accuracy = top5corrects[:, -1].mean()\n",
    "top5accuracy = np.any(top5corrects, axis=1).mean()\n",
    "print(\n",
    "    \"Spiking accuracy (%d examples): %0.3f (top-1), %0.3f (top-5)\"\n",
    "    % (n_presentations, top1accuracy, top5accuracy)\n",
    ")"
   ]
  }
 ],
 "metadata": {
  "kernelspec": {
   "display_name": "Python 3 (ipykernel)",
   "language": "python",
   "name": "python3"
  },
  "language_info": {
   "codemirror_mode": {
    "name": "ipython",
    "version": 3
   },
   "file_extension": ".py",
   "mimetype": "text/x-python",
   "name": "python",
   "nbconvert_exporter": "python",
   "pygments_lexer": "ipython3",
   "version": "3.8.5"
  },
  "nbsphinx": {
   "execute": "never"
  }
 },
 "nbformat": 4,
 "nbformat_minor": 2
}
